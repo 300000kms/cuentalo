{
 "cells": [
  {
   "cell_type": "code",
   "execution_count": 1,
   "metadata": {},
   "outputs": [],
   "source": [
    "import pandas as pd\n",
    "%matplotlib inline\n",
    "import matplotlib as plt\n",
    "pd.set_option(\"display.max_columns\",999)\n",
    "import numpy as np\n",
    "import json"
   ]
  },
  {
   "cell_type": "markdown",
   "metadata": {},
   "source": [
    "# Getting some info from JSON file"
   ]
  },
  {
   "cell_type": "code",
   "execution_count": 14,
   "metadata": {},
   "outputs": [],
   "source": [
    "df = pd.read_pickle(\"./cuentalo_json_to.pkl\")"
   ]
  },
  {
   "cell_type": "code",
   "execution_count": null,
   "metadata": {},
   "outputs": [],
   "source": []
  },
  {
   "cell_type": "markdown",
   "metadata": {},
   "source": [
    "## Otras ideas\n",
    "- geolocalizar los tweets sin loc info \n",
    "- identificar tweets mas influyentes y retweeteados (mostrarlos con los identificados del timeline)\n",
    "- Buscar algun modelo de impacto del tweet?\n",
    " - https://scholarspace.manoa.hawaii.edu/bitstream/10125/50160/1/paper0273.pdf\n",
    "- descargar tweets originales que faltan\n",
    "- encontrar el perfil tipico de usuarias que ponen contenido original\n",
    "- mirar tratamiento tweets aqui: http://www.nltk.org/howto/twitter.html\n"
   ]
  },
  {
   "cell_type": "code",
   "execution_count": null,
   "metadata": {},
   "outputs": [],
   "source": []
  },
  {
   "cell_type": "markdown",
   "metadata": {},
   "source": [
    "# Getting info from text properties"
   ]
  },
  {
   "cell_type": "markdown",
   "metadata": {},
   "source": [
    "- https://marcobonzanini.com/2015/03/09/mining-twitter-data-with-python-part-2/\n",
    "- https://dzone.com/articles/applying-nlp-to-tweets-with-python\n",
    "- https://relopezbriega.github.io/blog/2017/09/23/procesamiento-del-lenguaje-natural-con-python/\n",
    "- https://pmoracho.github.io/blog/2017/01/04/NLTK-mi-tutorial/\n",
    "- http://www.clubdetecnologia.net/blog/2017/aplicacion-de-nlp-a-tweets-con-python/"
   ]
  },
  {
   "cell_type": "code",
   "execution_count": null,
   "metadata": {},
   "outputs": [],
   "source": []
  },
  {
   "cell_type": "markdown",
   "metadata": {},
   "source": [
    "# ESTADISTICAS PARA RUEDA DE PRENSA"
   ]
  },
  {
   "cell_type": "markdown",
   "metadata": {},
   "source": [
    "* tweets totales\n",
    "  * originales, retweets, replies, etc.\n",
    "* Estadisticas por pais\n",
    "  * Comparar uso de Twitter en ESP ARG\n",
    "* Estadisticas por quien escribe\n",
    "* Estadisticas de tipo de contenido (crimen, apoyo, contra)\n",
    "* Poner HORA LOCAL para los tweets\n",
    "* CANTIDAD DE GENTE UNICA"
   ]
  },
  {
   "cell_type": "code",
   "execution_count": null,
   "metadata": {},
   "outputs": [],
   "source": []
  }
 ],
 "metadata": {
  "kernelspec": {
   "display_name": "Python 3",
   "language": "python",
   "name": "python3"
  },
  "language_info": {
   "codemirror_mode": {
    "name": "ipython",
    "version": 3
   },
   "file_extension": ".py",
   "mimetype": "text/x-python",
   "name": "python",
   "nbconvert_exporter": "python",
   "pygments_lexer": "ipython3",
   "version": "3.6.5"
  }
 },
 "nbformat": 4,
 "nbformat_minor": 1
}
