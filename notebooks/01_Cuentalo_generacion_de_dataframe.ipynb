{
 "cells": [
  {
   "cell_type": "code",
   "execution_count": 62,
   "metadata": {},
   "outputs": [],
   "source": [
    "import pandas as pd\n",
    "pd.set_option(\"display.max_columns\",999)\n",
    "import numpy as np\n",
    "import json"
   ]
  },
  {
   "cell_type": "markdown",
   "metadata": {},
   "source": [
    "# Getting some info from JSON file"
   ]
  },
  {
   "cell_type": "code",
   "execution_count": null,
   "metadata": {},
   "outputs": [],
   "source": []
  },
  {
   "cell_type": "markdown",
   "metadata": {},
   "source": [
    "## Data set preparation, run everything to get from scratch"
   ]
  },
  {
   "cell_type": "code",
   "execution_count": 63,
   "metadata": {},
   "outputs": [],
   "source": [
    "# ## Data set preparation, run everything to get from scratch\n",
    "\n",
    "def extractLoc(tweet,root=''):\n",
    "    if root!='':\n",
    "        root=root+'_' # si hay algo apendarle _\n",
    "    tweetLoc={}\n",
    "    if 'user' in tweet and 'location' in tweet['user']:\n",
    "        tweetLoc[root+'location']=tweet['user']['location']\n",
    "        tweetLoc[root+'time_zone']=tweet['user']['time_zone']\n",
    "    else:\n",
    "        tweetLoc[root+'location']=None\n",
    "        tweetLoc[root+'time_zone']=None\n",
    "    # try to geolocate the tweet\n",
    "    if 'coordinates' in tweet and tweet['coordinates']!=None:\n",
    "        tweetLoc[root+'lat']=tweet['coordinates']['coordinates'][0]\n",
    "        tweetLoc[root+'lon']=tweet['coordinates']['coordinates'][1]\n",
    "    else:\n",
    "        tweetLoc[root+'lat']=None\n",
    "        tweetLoc[root+'lon']=None\n",
    "        \n",
    "    if 'place' in tweet and tweet['place']!=None:\n",
    "        tweetLoc[root+'country']=tweet['place']['country']\n",
    "        tweetLoc[root+'place']=tweet['place']['full_name']\n",
    "    else:\n",
    "        tweetLoc[root+'country']=None\n",
    "        tweetLoc[root+'place']=None \n",
    "    return tweetLoc\n",
    "\n",
    "def extractUser(tweet,root=''):\n",
    "    if root!='':\n",
    "        root=root+'_' # si hay algo apendarle _\n",
    "    tweetUser={}\n",
    "    attrs_to_extract = ['id','name','screen_name','followers_count','statuses_count','created_at']\n",
    "    for attr in attrs_to_extract:\n",
    "        if 'user' in tweet and attr in tweet['user']:\n",
    "            tweetUser[root+'user_'+attr]=tweet['user'][attr]  \n",
    "        else:\n",
    "            tweetUser[root+'user_'+attr]=None\n",
    "    return tweetUser\n",
    "\n",
    "def extractGeneralInfo(tweet,root=''):\n",
    "    if root!='':\n",
    "        root=root+'_' # si hay algo apendarle _\n",
    "    tweetInfo={}\n",
    "    attrs_to_extract = ['id','retweet_count','favorite_count','full_text','quote_count','created_at']\n",
    "    for attr in attrs_to_extract:\n",
    "        tweetInfo[root+attr]=tweet[attr] if attr in tweet else None\n",
    "    return tweetInfo\n",
    "        \n",
    "# info from https://developer.twitter.com/en/docs/tweets/data-dictionary/overview/tweet-object\n",
    "def extractInfo(tweet):\n",
    "    tweetInfo={}\n",
    "\n",
    "    # basic tweet info\n",
    "    tweetInfo.update(extractGeneralInfo(tweet))\n",
    "    # get tweet location\n",
    "    tweetInfo.update(extractLoc(tweet))\n",
    "    # This tweet user data\n",
    "    tweetInfo.update(extractUser(tweet))\n",
    "\n",
    "    # type of tweet and get parent tweet included\n",
    "    if tweet['in_reply_to_status_id']!=None: # reply\n",
    "        tweetInfo['tweet_type']='reply'\n",
    "        subtweet={ 'id': tweet['in_reply_to_status_id'], 'user': {'id': tweet['in_reply_to_user_id']}}        \n",
    "    elif 'quoted_status' in tweet: # quote\n",
    "        tweetInfo['tweet_type']='quote'\n",
    "        subtweet = tweet['quoted_status']\n",
    "        subtweet['id']=tweet['quoted_status_id']                      \n",
    "    elif'retweeted_status' in tweet and tweet['retweeted_status']!=None: # retweet\n",
    "        tweetInfo['tweet_type']='retweet'\n",
    "        subtweet = tweet['retweeted_status']\n",
    "    else: # iriginal\n",
    "        tweetInfo['tweet_type']='original'\n",
    "        subtweet={}\n",
    "          \n",
    "    # get subtweet  data\n",
    "    tweetInfo.update(extractGeneralInfo(subtweet,'parent'))\n",
    "    # get subtweet user data\n",
    "    tweetInfo.update(extractUser(subtweet,'parent'))    \n",
    "    # get subtweet location\n",
    "    tweetInfo.update(extractLoc(subtweet,'parent'))\n",
    "                    \n",
    "    return tweetInfo"
   ]
  },
  {
   "cell_type": "code",
   "execution_count": 42,
   "metadata": {},
   "outputs": [
    {
     "ename": "AttributeError",
     "evalue": "'NoneType' object has no attribute 'keys'",
     "output_type": "error",
     "traceback": [
      "\u001b[0;31m---------------------------------------------------------------------------\u001b[0m",
      "\u001b[0;31mAttributeError\u001b[0m                            Traceback (most recent call last)",
      "\u001b[0;32m<ipython-input-42-8fc0cf4be89f>\u001b[0m in \u001b[0;36m<module>\u001b[0;34m()\u001b[0m\n\u001b[1;32m      5\u001b[0m         \u001b[0;32mbreak\u001b[0m\u001b[0;34m\u001b[0m\u001b[0m\n\u001b[1;32m      6\u001b[0m     \u001b[0mtweet\u001b[0m\u001b[0;34m=\u001b[0m\u001b[0mjson\u001b[0m\u001b[0;34m.\u001b[0m\u001b[0mloads\u001b[0m\u001b[0;34m(\u001b[0m\u001b[0mline\u001b[0m\u001b[0;34m)\u001b[0m\u001b[0;34m\u001b[0m\u001b[0m\n\u001b[0;32m----> 7\u001b[0;31m     \u001b[0mtweets\u001b[0m\u001b[0;34m[\u001b[0m\u001b[0mtweet\u001b[0m\u001b[0;34m[\u001b[0m\u001b[0;34m'id'\u001b[0m\u001b[0;34m]\u001b[0m\u001b[0;34m]\u001b[0m\u001b[0;34m=\u001b[0m\u001b[0mextractInfo\u001b[0m\u001b[0;34m(\u001b[0m\u001b[0mtweet\u001b[0m\u001b[0;34m)\u001b[0m\u001b[0;34m\u001b[0m\u001b[0m\n\u001b[0m",
      "\u001b[0;32m<ipython-input-39-893df3f681ef>\u001b[0m in \u001b[0;36mextractInfo\u001b[0;34m(tweet)\u001b[0m\n\u001b[1;32m     51\u001b[0m     \u001b[0;31m# This tweet user data\u001b[0m\u001b[0;34m\u001b[0m\u001b[0;34m\u001b[0m\u001b[0m\n\u001b[1;32m     52\u001b[0m     \u001b[0muserdata\u001b[0m\u001b[0;34m=\u001b[0m\u001b[0mextractUser\u001b[0m\u001b[0;34m(\u001b[0m\u001b[0mtweet\u001b[0m\u001b[0;34m)\u001b[0m\u001b[0;34m\u001b[0m\u001b[0m\n\u001b[0;32m---> 53\u001b[0;31m     \u001b[0;32mfor\u001b[0m \u001b[0mk\u001b[0m \u001b[0;32min\u001b[0m \u001b[0muserdata\u001b[0m\u001b[0;34m.\u001b[0m\u001b[0mkeys\u001b[0m\u001b[0;34m(\u001b[0m\u001b[0;34m)\u001b[0m\u001b[0;34m:\u001b[0m\u001b[0;34m\u001b[0m\u001b[0m\n\u001b[0m\u001b[1;32m     54\u001b[0m         \u001b[0mtweetInfo\u001b[0m\u001b[0;34m[\u001b[0m\u001b[0;34m'user_'\u001b[0m\u001b[0;34m+\u001b[0m\u001b[0mk\u001b[0m\u001b[0;34m]\u001b[0m\u001b[0;34m=\u001b[0m\u001b[0muserdata\u001b[0m\u001b[0;34m[\u001b[0m\u001b[0mk\u001b[0m\u001b[0;34m]\u001b[0m\u001b[0;34m\u001b[0m\u001b[0m\n\u001b[1;32m     55\u001b[0m \u001b[0;34m\u001b[0m\u001b[0m\n",
      "\u001b[0;31mAttributeError\u001b[0m: 'NoneType' object has no attribute 'keys'"
     ]
    }
   ],
   "source": [
    "tweets={}\n",
    "tweetfile=open(\"../data/Aniol-Maria-cuentalo-search-20180427_20180513.jsonl\")\n",
    "for idx,line in enumerate(tweetfile):\n",
    "    if idx>100000000: # use for testing\n",
    "        break\n",
    "    tweet=json.loads(line)\n",
    "    tweets[tweet['id']]=extractInfo(tweet)\n"
   ]
  },
  {
   "cell_type": "code",
   "execution_count": null,
   "metadata": {},
   "outputs": [],
   "source": []
  },
  {
   "cell_type": "code",
   "execution_count": null,
   "metadata": {},
   "outputs": [],
   "source": []
  },
  {
   "cell_type": "code",
   "execution_count": 8,
   "metadata": {},
   "outputs": [
    {
     "data": {
      "text/plain": [
       "{'contributors': None,\n",
       " 'truncated': False,\n",
       " 'is_quote_status': False,\n",
       " 'in_reply_to_status_id': None,\n",
       " 'id': 995091244043862017,\n",
       " 'favorite_count': 0,\n",
       " 'full_text': 'RT @brisavasquez: Es largo pero ojalá alguien quiera leerlo. Me canse de tenerle miedo y callarme. #Cuéntalo https://t.co/rMGzW8iN5M',\n",
       " 'entities': {'symbols': [],\n",
       "  'user_mentions': [{'id': 865118598,\n",
       "    'indices': [3, 16],\n",
       "    'id_str': '865118598',\n",
       "    'screen_name': 'brisavasquez',\n",
       "    'name': 'brisa'}],\n",
       "  'hashtags': [{'indices': [99, 108], 'text': 'Cuéntalo'}],\n",
       "  'urls': [],\n",
       "  'media': [{'source_user_id': 865118598,\n",
       "    'source_status_id_str': '993982598757146627',\n",
       "    'expanded_url': 'https://twitter.com/brisavasquez/status/993982598757146627/photo/1',\n",
       "    'display_url': 'pic.twitter.com/rMGzW8iN5M',\n",
       "    'url': 'https://t.co/rMGzW8iN5M',\n",
       "    'media_url_https': 'https://pbs.twimg.com/media/DctV5DpW0AAX7vK.jpg',\n",
       "    'source_user_id_str': '865118598',\n",
       "    'source_status_id': 993982598757146627,\n",
       "    'id_str': '993982581484998656',\n",
       "    'sizes': {'large': {'h': 2048, 'resize': 'fit', 'w': 1152},\n",
       "     'small': {'h': 680, 'resize': 'fit', 'w': 383},\n",
       "     'medium': {'h': 1200, 'resize': 'fit', 'w': 675},\n",
       "     'thumb': {'h': 150, 'resize': 'crop', 'w': 150}},\n",
       "    'indices': [109, 132],\n",
       "    'type': 'photo',\n",
       "    'id': 993982581484998656,\n",
       "    'media_url': 'http://pbs.twimg.com/media/DctV5DpW0AAX7vK.jpg'}]},\n",
       " 'retweeted': False,\n",
       " 'coordinates': None,\n",
       " 'source': '<a href=\"http://twitter.com/download/android\" rel=\"nofollow\">Twitter for Android</a>',\n",
       " 'in_reply_to_screen_name': None,\n",
       " 'in_reply_to_user_id': None,\n",
       " 'display_text_range': [0, 132],\n",
       " 'retweet_count': 2330,\n",
       " 'id_str': '995091244043862017',\n",
       " 'favorited': False,\n",
       " 'retweeted_status': {'contributors': None,\n",
       "  'truncated': False,\n",
       "  'is_quote_status': False,\n",
       "  'in_reply_to_status_id': None,\n",
       "  'id': 993982598757146627,\n",
       "  'favorite_count': 4059,\n",
       "  'full_text': 'Es largo pero ojalá alguien quiera leerlo. Me canse de tenerle miedo y callarme. #Cuéntalo https://t.co/rMGzW8iN5M',\n",
       "  'entities': {'symbols': [],\n",
       "   'user_mentions': [],\n",
       "   'hashtags': [{'indices': [81, 90], 'text': 'Cuéntalo'}],\n",
       "   'urls': [],\n",
       "   'media': [{'expanded_url': 'https://twitter.com/brisavasquez/status/993982598757146627/photo/1',\n",
       "     'display_url': 'pic.twitter.com/rMGzW8iN5M',\n",
       "     'url': 'https://t.co/rMGzW8iN5M',\n",
       "     'media_url_https': 'https://pbs.twimg.com/media/DctV5DpW0AAX7vK.jpg',\n",
       "     'id_str': '993982581484998656',\n",
       "     'sizes': {'large': {'h': 2048, 'resize': 'fit', 'w': 1152},\n",
       "      'small': {'h': 680, 'resize': 'fit', 'w': 383},\n",
       "      'medium': {'h': 1200, 'resize': 'fit', 'w': 675},\n",
       "      'thumb': {'h': 150, 'resize': 'crop', 'w': 150}},\n",
       "     'indices': [91, 114],\n",
       "     'type': 'photo',\n",
       "     'id': 993982581484998656,\n",
       "     'media_url': 'http://pbs.twimg.com/media/DctV5DpW0AAX7vK.jpg'}]},\n",
       "  'retweeted': False,\n",
       "  'coordinates': None,\n",
       "  'source': '<a href=\"http://twitter.com/download/iphone\" rel=\"nofollow\">Twitter for iPhone</a>',\n",
       "  'in_reply_to_screen_name': None,\n",
       "  'in_reply_to_user_id': None,\n",
       "  'display_text_range': [0, 90],\n",
       "  'retweet_count': 2330,\n",
       "  'id_str': '993982598757146627',\n",
       "  'favorited': False,\n",
       "  'user': {'follow_request_sent': False,\n",
       "   'has_extended_profile': True,\n",
       "   'profile_use_background_image': False,\n",
       "   'default_profile_image': False,\n",
       "   'id': 865118598,\n",
       "   'profile_background_image_url_https': 'https://pbs.twimg.com/profile_background_images/446795248723693568/SSblsTYJ.png',\n",
       "   'verified': False,\n",
       "   'translator_type': 'none',\n",
       "   'profile_text_color': '3D1957',\n",
       "   'profile_image_url_https': 'https://pbs.twimg.com/profile_images/992126319713497094/dDQj_hKh_normal.jpg',\n",
       "   'profile_sidebar_fill_color': '7AC3EE',\n",
       "   'entities': {'url': {'urls': [{'url': 'http://instagram.com/brisavasquez',\n",
       "       'indices': [0, 33],\n",
       "       'expanded_url': None}]},\n",
       "    'description': {'urls': []}},\n",
       "   'followers_count': 1525,\n",
       "   'profile_sidebar_border_color': 'FFFFFF',\n",
       "   'id_str': '865118598',\n",
       "   'profile_background_color': 'FAFAFA',\n",
       "   'listed_count': 0,\n",
       "   'is_translation_enabled': False,\n",
       "   'utc_offset': -10800,\n",
       "   'statuses_count': 20020,\n",
       "   'description': 'Mujer alerta, luchadora, organizada, puño en alto y ni una menos.| feminista| lucía💜',\n",
       "   'friends_count': 923,\n",
       "   'location': 'Buenos Aires, Argentina',\n",
       "   'profile_link_color': '2786D9',\n",
       "   'profile_image_url': 'http://pbs.twimg.com/profile_images/992126319713497094/dDQj_hKh_normal.jpg',\n",
       "   'following': False,\n",
       "   'geo_enabled': True,\n",
       "   'profile_banner_url': 'https://pbs.twimg.com/profile_banners/865118598/1521400052',\n",
       "   'profile_background_image_url': 'http://pbs.twimg.com/profile_background_images/446795248723693568/SSblsTYJ.png',\n",
       "   'screen_name': 'brisavasquez',\n",
       "   'lang': 'es',\n",
       "   'profile_background_tile': False,\n",
       "   'favourites_count': 25073,\n",
       "   'name': 'brisa',\n",
       "   'notifications': False,\n",
       "   'url': 'http://instagram.com/brisavasquez',\n",
       "   'created_at': 'Sat Oct 06 18:43:41 +0000 2012',\n",
       "   'contributors_enabled': False,\n",
       "   'time_zone': 'Brasilia',\n",
       "   'protected': False,\n",
       "   'default_profile': False,\n",
       "   'is_translator': False},\n",
       "  'geo': None,\n",
       "  'in_reply_to_user_id_str': None,\n",
       "  'possibly_sensitive': False,\n",
       "  'lang': 'es',\n",
       "  'created_at': 'Tue May 08 22:34:53 +0000 2018',\n",
       "  'in_reply_to_status_id_str': None,\n",
       "  'place': None,\n",
       "  'extended_entities': {'media': [{'expanded_url': 'https://twitter.com/brisavasquez/status/993982598757146627/photo/1',\n",
       "     'display_url': 'pic.twitter.com/rMGzW8iN5M',\n",
       "     'url': 'https://t.co/rMGzW8iN5M',\n",
       "     'media_url_https': 'https://pbs.twimg.com/media/DctV5DpW0AAX7vK.jpg',\n",
       "     'id_str': '993982581484998656',\n",
       "     'sizes': {'large': {'h': 2048, 'resize': 'fit', 'w': 1152},\n",
       "      'small': {'h': 680, 'resize': 'fit', 'w': 383},\n",
       "      'medium': {'h': 1200, 'resize': 'fit', 'w': 675},\n",
       "      'thumb': {'h': 150, 'resize': 'crop', 'w': 150}},\n",
       "     'indices': [91, 114],\n",
       "     'type': 'photo',\n",
       "     'id': 993982581484998656,\n",
       "     'media_url': 'http://pbs.twimg.com/media/DctV5DpW0AAX7vK.jpg'},\n",
       "    {'expanded_url': 'https://twitter.com/brisavasquez/status/993982598757146627/photo/1',\n",
       "     'display_url': 'pic.twitter.com/rMGzW8iN5M',\n",
       "     'url': 'https://t.co/rMGzW8iN5M',\n",
       "     'media_url_https': 'https://pbs.twimg.com/media/DctV5DpWAAA5_qq.jpg',\n",
       "     'id_str': '993982581484945408',\n",
       "     'sizes': {'small': {'h': 680, 'resize': 'fit', 'w': 383},\n",
       "      'large': {'h': 2048, 'resize': 'fit', 'w': 1152},\n",
       "      'medium': {'h': 1200, 'resize': 'fit', 'w': 675},\n",
       "      'thumb': {'h': 150, 'resize': 'crop', 'w': 150}},\n",
       "     'indices': [91, 114],\n",
       "     'type': 'photo',\n",
       "     'id': 993982581484945408,\n",
       "     'media_url': 'http://pbs.twimg.com/media/DctV5DpWAAA5_qq.jpg'},\n",
       "    {'expanded_url': 'https://twitter.com/brisavasquez/status/993982598757146627/photo/1',\n",
       "     'display_url': 'pic.twitter.com/rMGzW8iN5M',\n",
       "     'url': 'https://t.co/rMGzW8iN5M',\n",
       "     'media_url_https': 'https://pbs.twimg.com/media/DctV5DlXcAIziBx.jpg',\n",
       "     'id_str': '993982581468262402',\n",
       "     'sizes': {'small': {'h': 680, 'resize': 'fit', 'w': 383},\n",
       "      'large': {'h': 2048, 'resize': 'fit', 'w': 1152},\n",
       "      'medium': {'h': 1200, 'resize': 'fit', 'w': 675},\n",
       "      'thumb': {'h': 150, 'resize': 'crop', 'w': 150}},\n",
       "     'indices': [91, 114],\n",
       "     'type': 'photo',\n",
       "     'id': 993982581468262402,\n",
       "     'media_url': 'http://pbs.twimg.com/media/DctV5DlXcAIziBx.jpg'},\n",
       "    {'expanded_url': 'https://twitter.com/brisavasquez/status/993982598757146627/photo/1',\n",
       "     'display_url': 'pic.twitter.com/rMGzW8iN5M',\n",
       "     'url': 'https://t.co/rMGzW8iN5M',\n",
       "     'media_url_https': 'https://pbs.twimg.com/media/DctV5DmXkAAoLrk.jpg',\n",
       "     'id_str': '993982581472464896',\n",
       "     'sizes': {'large': {'h': 2048, 'resize': 'fit', 'w': 1152},\n",
       "      'small': {'h': 680, 'resize': 'fit', 'w': 383},\n",
       "      'medium': {'h': 1200, 'resize': 'fit', 'w': 675},\n",
       "      'thumb': {'h': 150, 'resize': 'crop', 'w': 150}},\n",
       "     'indices': [91, 114],\n",
       "     'type': 'photo',\n",
       "     'id': 993982581472464896,\n",
       "     'media_url': 'http://pbs.twimg.com/media/DctV5DmXkAAoLrk.jpg'}]},\n",
       "  'metadata': {'iso_language_code': 'es', 'result_type': 'recent'}},\n",
       " 'user': {'follow_request_sent': False,\n",
       "  'has_extended_profile': True,\n",
       "  'profile_use_background_image': True,\n",
       "  'default_profile_image': False,\n",
       "  'id': 703609038,\n",
       "  'profile_background_image_url_https': 'https://pbs.twimg.com/profile_background_images/515834449049559041/0roOog58.jpeg',\n",
       "  'verified': False,\n",
       "  'translator_type': 'none',\n",
       "  'profile_text_color': '333333',\n",
       "  'profile_image_url_https': 'https://pbs.twimg.com/profile_images/977527370977562624/qxcHYsFA_normal.jpg',\n",
       "  'profile_sidebar_fill_color': 'DDEEF6',\n",
       "  'entities': {'url': {'urls': [{'url': 'https://t.co/Xuzwbg7YxL',\n",
       "      'indices': [0, 23],\n",
       "      'expanded_url': 'https://curiouscat.me/Snugie',\n",
       "      'display_url': 'curiouscat.me/Snugie'}]},\n",
       "   'description': {'urls': []}},\n",
       "  'followers_count': 2767,\n",
       "  'profile_sidebar_border_color': 'FFFFFF',\n",
       "  'id_str': '703609038',\n",
       "  'profile_background_color': 'C0DEED',\n",
       "  'listed_count': 27,\n",
       "  'is_translation_enabled': False,\n",
       "  'utc_offset': 10800,\n",
       "  'statuses_count': 49239,\n",
       "  'description': '🍃Masturbation never breaks your heart🌸🐝                                                                               \\n\\n\\n                           ♀GRL PWR♀',\n",
       "  'friends_count': 1931,\n",
       "  'location': '♪ Upside Down (Graná)',\n",
       "  'profile_link_color': 'F58EA8',\n",
       "  'profile_image_url': 'http://pbs.twimg.com/profile_images/977527370977562624/qxcHYsFA_normal.jpg',\n",
       "  'following': False,\n",
       "  'geo_enabled': True,\n",
       "  'profile_banner_url': 'https://pbs.twimg.com/profile_banners/703609038/1522623619',\n",
       "  'profile_background_image_url': 'http://pbs.twimg.com/profile_background_images/515834449049559041/0roOog58.jpeg',\n",
       "  'screen_name': 'LittleUmbreon',\n",
       "  'lang': 'es',\n",
       "  'profile_background_tile': True,\n",
       "  'favourites_count': 36038,\n",
       "  'name': '🌻Emily🌻',\n",
       "  'notifications': False,\n",
       "  'url': 'https://t.co/Xuzwbg7YxL',\n",
       "  'created_at': 'Wed Jul 18 19:03:43 +0000 2012',\n",
       "  'contributors_enabled': False,\n",
       "  'time_zone': 'Athens',\n",
       "  'protected': False,\n",
       "  'default_profile': False,\n",
       "  'is_translator': False},\n",
       " 'geo': None,\n",
       " 'in_reply_to_user_id_str': None,\n",
       " 'possibly_sensitive': False,\n",
       " 'lang': 'es',\n",
       " 'created_at': 'Sat May 12 00:00:15 +0000 2018',\n",
       " 'in_reply_to_status_id_str': None,\n",
       " 'place': None,\n",
       " 'extended_entities': {'media': [{'source_user_id': 865118598,\n",
       "    'source_status_id_str': '993982598757146627',\n",
       "    'expanded_url': 'https://twitter.com/brisavasquez/status/993982598757146627/photo/1',\n",
       "    'display_url': 'pic.twitter.com/rMGzW8iN5M',\n",
       "    'url': 'https://t.co/rMGzW8iN5M',\n",
       "    'media_url_https': 'https://pbs.twimg.com/media/DctV5DpW0AAX7vK.jpg',\n",
       "    'source_user_id_str': '865118598',\n",
       "    'source_status_id': 993982598757146627,\n",
       "    'id_str': '993982581484998656',\n",
       "    'sizes': {'large': {'h': 2048, 'resize': 'fit', 'w': 1152},\n",
       "     'small': {'h': 680, 'resize': 'fit', 'w': 383},\n",
       "     'medium': {'h': 1200, 'resize': 'fit', 'w': 675},\n",
       "     'thumb': {'h': 150, 'resize': 'crop', 'w': 150}},\n",
       "    'indices': [109, 132],\n",
       "    'type': 'photo',\n",
       "    'id': 993982581484998656,\n",
       "    'media_url': 'http://pbs.twimg.com/media/DctV5DpW0AAX7vK.jpg'},\n",
       "   {'source_user_id': 865118598,\n",
       "    'source_status_id_str': '993982598757146627',\n",
       "    'expanded_url': 'https://twitter.com/brisavasquez/status/993982598757146627/photo/1',\n",
       "    'display_url': 'pic.twitter.com/rMGzW8iN5M',\n",
       "    'url': 'https://t.co/rMGzW8iN5M',\n",
       "    'media_url_https': 'https://pbs.twimg.com/media/DctV5DpWAAA5_qq.jpg',\n",
       "    'source_user_id_str': '865118598',\n",
       "    'source_status_id': 993982598757146627,\n",
       "    'id_str': '993982581484945408',\n",
       "    'sizes': {'small': {'h': 680, 'resize': 'fit', 'w': 383},\n",
       "     'large': {'h': 2048, 'resize': 'fit', 'w': 1152},\n",
       "     'medium': {'h': 1200, 'resize': 'fit', 'w': 675},\n",
       "     'thumb': {'h': 150, 'resize': 'crop', 'w': 150}},\n",
       "    'indices': [109, 132],\n",
       "    'type': 'photo',\n",
       "    'id': 993982581484945408,\n",
       "    'media_url': 'http://pbs.twimg.com/media/DctV5DpWAAA5_qq.jpg'},\n",
       "   {'source_user_id': 865118598,\n",
       "    'source_status_id_str': '993982598757146627',\n",
       "    'expanded_url': 'https://twitter.com/brisavasquez/status/993982598757146627/photo/1',\n",
       "    'display_url': 'pic.twitter.com/rMGzW8iN5M',\n",
       "    'url': 'https://t.co/rMGzW8iN5M',\n",
       "    'media_url_https': 'https://pbs.twimg.com/media/DctV5DlXcAIziBx.jpg',\n",
       "    'source_user_id_str': '865118598',\n",
       "    'source_status_id': 993982598757146627,\n",
       "    'id_str': '993982581468262402',\n",
       "    'sizes': {'small': {'h': 680, 'resize': 'fit', 'w': 383},\n",
       "     'large': {'h': 2048, 'resize': 'fit', 'w': 1152},\n",
       "     'medium': {'h': 1200, 'resize': 'fit', 'w': 675},\n",
       "     'thumb': {'h': 150, 'resize': 'crop', 'w': 150}},\n",
       "    'indices': [109, 132],\n",
       "    'type': 'photo',\n",
       "    'id': 993982581468262402,\n",
       "    'media_url': 'http://pbs.twimg.com/media/DctV5DlXcAIziBx.jpg'},\n",
       "   {'source_user_id': 865118598,\n",
       "    'source_status_id_str': '993982598757146627',\n",
       "    'expanded_url': 'https://twitter.com/brisavasquez/status/993982598757146627/photo/1',\n",
       "    'display_url': 'pic.twitter.com/rMGzW8iN5M',\n",
       "    'url': 'https://t.co/rMGzW8iN5M',\n",
       "    'media_url_https': 'https://pbs.twimg.com/media/DctV5DmXkAAoLrk.jpg',\n",
       "    'source_user_id_str': '865118598',\n",
       "    'source_status_id': 993982598757146627,\n",
       "    'id_str': '993982581472464896',\n",
       "    'sizes': {'large': {'h': 2048, 'resize': 'fit', 'w': 1152},\n",
       "     'small': {'h': 680, 'resize': 'fit', 'w': 383},\n",
       "     'medium': {'h': 1200, 'resize': 'fit', 'w': 675},\n",
       "     'thumb': {'h': 150, 'resize': 'crop', 'w': 150}},\n",
       "    'indices': [109, 132],\n",
       "    'type': 'photo',\n",
       "    'id': 993982581472464896,\n",
       "    'media_url': 'http://pbs.twimg.com/media/DctV5DmXkAAoLrk.jpg'}]},\n",
       " 'metadata': {'iso_language_code': 'es', 'result_type': 'recent'}}"
      ]
     },
     "execution_count": 8,
     "metadata": {},
     "output_type": "execute_result"
    }
   ],
   "source": [
    "tweet['quoted']"
   ]
  },
  {
   "cell_type": "code",
   "execution_count": 5,
   "metadata": {},
   "outputs": [
    {
     "data": {
      "text/plain": [
       "2111998"
      ]
     },
     "execution_count": 5,
     "metadata": {},
     "output_type": "execute_result"
    }
   ],
   "source": [
    "df=pd.DataFrame(tweets).transpose()\n",
    "len(df)"
   ]
  },
  {
   "cell_type": "code",
   "execution_count": 6,
   "metadata": {},
   "outputs": [
    {
     "data": {
      "text/plain": [
       "country                  object\n",
       "created_at               object\n",
       "favorite_count           object\n",
       "full_text                object\n",
       "id                       object\n",
       "lat                      object\n",
       "location                 object\n",
       "lon                      object\n",
       "parent_country           object\n",
       "parent_created_at        object\n",
       "parent_id                object\n",
       "parent_lat               object\n",
       "parent_location          object\n",
       "parent_lon               object\n",
       "parent_place             object\n",
       "parent_text              object\n",
       "parent_time_zone         object\n",
       "parent_user_followers    object\n",
       "parent_user_id           object\n",
       "place                    object\n",
       "quote_count              object\n",
       "retweet_count            object\n",
       "statuses_count           object\n",
       "time_zone                object\n",
       "tweet_type               object\n",
       "user_followers_count     object\n",
       "user_id                  object\n",
       "user_screen_name         object\n",
       "dtype: object"
      ]
     },
     "execution_count": 6,
     "metadata": {},
     "output_type": "execute_result"
    }
   ],
   "source": [
    "df.dtypes"
   ]
  },
  {
   "cell_type": "code",
   "execution_count": 7,
   "metadata": {},
   "outputs": [],
   "source": [
    "df['created_at']=pd.to_datetime(df.created_at,infer_datetime_format=True)\n",
    "df['parent_created_at']=pd.to_datetime(df.parent_created_at,infer_datetime_format=True)"
   ]
  },
  {
   "cell_type": "code",
   "execution_count": 8,
   "metadata": {},
   "outputs": [],
   "source": [
    "df.retweet_count=df.fillna(-1).retweet_count.astype(np.int32)\n",
    "df.quote_count=df.quote_count.fillna(-1).astype(np.int32)\n",
    "df.statuses_count=df.statuses_count.fillna(-1).astype(np.int32)\n",
    "df.user_followers_count=df.user_followers_count.fillna(-1).astype(np.int32)\n",
    "df.parent_user_followers=df.parent_user_followers.fillna(-1).astype(np.int32)\n",
    "\n",
    "df.lat=df.lat.fillna(-999).astype(np.float32)\n",
    "df.lon=df.lon.fillna(-999).astype(np.float32)"
   ]
  },
  {
   "cell_type": "code",
   "execution_count": 9,
   "metadata": {},
   "outputs": [],
   "source": [
    "df.id=df.fillna(0).id.astype(np.int64)\n",
    "df.parent_id=df.parent_id.fillna(0).astype(np.int64)\n",
    "df.parent_user_id=df.parent_user_id.fillna(0).astype(np.int64)\n",
    "df.user_id=df.user_id.fillna(0).astype(np.int64)\n"
   ]
  },
  {
   "cell_type": "code",
   "execution_count": 10,
   "metadata": {},
   "outputs": [
    {
     "data": {
      "text/html": [
       "<div>\n",
       "<style scoped>\n",
       "    .dataframe tbody tr th:only-of-type {\n",
       "        vertical-align: middle;\n",
       "    }\n",
       "\n",
       "    .dataframe tbody tr th {\n",
       "        vertical-align: top;\n",
       "    }\n",
       "\n",
       "    .dataframe thead th {\n",
       "        text-align: right;\n",
       "    }\n",
       "</style>\n",
       "<table border=\"1\" class=\"dataframe\">\n",
       "  <thead>\n",
       "    <tr style=\"text-align: right;\">\n",
       "      <th></th>\n",
       "      <th>country</th>\n",
       "      <th>created_at</th>\n",
       "      <th>favorite_count</th>\n",
       "      <th>full_text</th>\n",
       "      <th>id</th>\n",
       "      <th>lat</th>\n",
       "      <th>location</th>\n",
       "      <th>lon</th>\n",
       "      <th>parent_country</th>\n",
       "      <th>parent_created_at</th>\n",
       "      <th>parent_id</th>\n",
       "      <th>parent_lat</th>\n",
       "      <th>parent_location</th>\n",
       "      <th>parent_lon</th>\n",
       "      <th>parent_place</th>\n",
       "      <th>parent_text</th>\n",
       "      <th>parent_time_zone</th>\n",
       "      <th>parent_user_followers</th>\n",
       "      <th>parent_user_id</th>\n",
       "      <th>place</th>\n",
       "      <th>quote_count</th>\n",
       "      <th>retweet_count</th>\n",
       "      <th>statuses_count</th>\n",
       "      <th>time_zone</th>\n",
       "      <th>tweet_type</th>\n",
       "      <th>user_followers_count</th>\n",
       "      <th>user_id</th>\n",
       "      <th>user_screen_name</th>\n",
       "    </tr>\n",
       "  </thead>\n",
       "  <tbody>\n",
       "    <tr>\n",
       "      <th>990380137937035265</th>\n",
       "      <td>None</td>\n",
       "      <td>2018-04-28 23:59:59</td>\n",
       "      <td>0</td>\n",
       "      <td>RT @Odi_sea: Con 17 años desde una cena de gra...</td>\n",
       "      <td>990380137937035265</td>\n",
       "      <td>-999.0</td>\n",
       "      <td>Venezuela</td>\n",
       "      <td>-999.0</td>\n",
       "      <td>None</td>\n",
       "      <td>2018-04-28 00:41:56</td>\n",
       "      <td>990028305704333312</td>\n",
       "      <td>None</td>\n",
       "      <td></td>\n",
       "      <td>None</td>\n",
       "      <td>None</td>\n",
       "      <td>Con 17 años desde una cena de graduación un ho...</td>\n",
       "      <td>Amsterdam</td>\n",
       "      <td>301</td>\n",
       "      <td>112541236</td>\n",
       "      <td>None</td>\n",
       "      <td>-1</td>\n",
       "      <td>3176</td>\n",
       "      <td>48132</td>\n",
       "      <td>Caracas</td>\n",
       "      <td>retweet</td>\n",
       "      <td>1839</td>\n",
       "      <td>636716479</td>\n",
       "      <td>OrianaDiAmeliee</td>\n",
       "    </tr>\n",
       "    <tr>\n",
       "      <th>990380135638593538</th>\n",
       "      <td>None</td>\n",
       "      <td>2018-04-28 23:59:59</td>\n",
       "      <td>0</td>\n",
       "      <td>RT @__Kylene: Demos voz y apoyo a esta compañe...</td>\n",
       "      <td>990380135638593538</td>\n",
       "      <td>-999.0</td>\n",
       "      <td>Baker Street, London.</td>\n",
       "      <td>-999.0</td>\n",
       "      <td>None</td>\n",
       "      <td>2018-04-28 14:57:54</td>\n",
       "      <td>990243714584010752</td>\n",
       "      <td>None</td>\n",
       "      <td>Lleida</td>\n",
       "      <td>None</td>\n",
       "      <td>None</td>\n",
       "      <td>Demos voz y apoyo a esta compañera que me ha p...</td>\n",
       "      <td>Athens</td>\n",
       "      <td>2483</td>\n",
       "      <td>814900356</td>\n",
       "      <td>None</td>\n",
       "      <td>-1</td>\n",
       "      <td>1208</td>\n",
       "      <td>9376</td>\n",
       "      <td>None</td>\n",
       "      <td>retweet</td>\n",
       "      <td>249</td>\n",
       "      <td>546250792</td>\n",
       "      <td>alannih</td>\n",
       "    </tr>\n",
       "    <tr>\n",
       "      <th>990380135500181505</th>\n",
       "      <td>None</td>\n",
       "      <td>2018-04-28 23:59:59</td>\n",
       "      <td>0</td>\n",
       "      <td>RT @AlejandraTuk: Mi marido me maltrata.\\nPido...</td>\n",
       "      <td>990380135500181505</td>\n",
       "      <td>-999.0</td>\n",
       "      <td></td>\n",
       "      <td>-999.0</td>\n",
       "      <td>None</td>\n",
       "      <td>2018-04-28 20:21:05</td>\n",
       "      <td>990325049893801984</td>\n",
       "      <td>None</td>\n",
       "      <td>Latinoamérica Libre ☭</td>\n",
       "      <td>None</td>\n",
       "      <td>None</td>\n",
       "      <td>Mi marido me maltrata.\\nPido el divorcio.\\nEl ...</td>\n",
       "      <td>Eastern Time (US &amp; Canada)</td>\n",
       "      <td>5824</td>\n",
       "      <td>529588816</td>\n",
       "      <td>None</td>\n",
       "      <td>-1</td>\n",
       "      <td>17406</td>\n",
       "      <td>10839</td>\n",
       "      <td>None</td>\n",
       "      <td>retweet</td>\n",
       "      <td>132</td>\n",
       "      <td>796195177400532993</td>\n",
       "      <td>DiKa2Pa21</td>\n",
       "    </tr>\n",
       "    <tr>\n",
       "      <th>990380134715871233</th>\n",
       "      <td>None</td>\n",
       "      <td>2018-04-28 23:59:59</td>\n",
       "      <td>0</td>\n",
       "      <td>RT @Antiintermedio: ¿Sabéis dónde estaban hace...</td>\n",
       "      <td>990380134715871233</td>\n",
       "      <td>-999.0</td>\n",
       "      <td>Cáceres, España</td>\n",
       "      <td>-999.0</td>\n",
       "      <td>None</td>\n",
       "      <td>2018-04-27 21:50:49</td>\n",
       "      <td>989985242713919488</td>\n",
       "      <td>None</td>\n",
       "      <td>En el combate metapolítico</td>\n",
       "      <td>None</td>\n",
       "      <td>None</td>\n",
       "      <td>¿Sabéis dónde estaban hace 4 años y medio los ...</td>\n",
       "      <td>None</td>\n",
       "      <td>18184</td>\n",
       "      <td>2345903802</td>\n",
       "      <td>None</td>\n",
       "      <td>-1</td>\n",
       "      <td>1322</td>\n",
       "      <td>41093</td>\n",
       "      <td>None</td>\n",
       "      <td>retweet</td>\n",
       "      <td>213</td>\n",
       "      <td>936556720670863360</td>\n",
       "      <td>FranciscoJMArau</td>\n",
       "    </tr>\n",
       "    <tr>\n",
       "      <th>990380130362187776</th>\n",
       "      <td>None</td>\n",
       "      <td>2018-04-28 23:59:58</td>\n",
       "      <td>0</td>\n",
       "      <td>RT @Soy_Arbitra: Estar en un campo de fútbol a...</td>\n",
       "      <td>990380130362187776</td>\n",
       "      <td>-999.0</td>\n",
       "      <td>Vallecas, Madrid</td>\n",
       "      <td>-999.0</td>\n",
       "      <td>None</td>\n",
       "      <td>2018-04-28 16:07:55</td>\n",
       "      <td>990261338810257408</td>\n",
       "      <td>None</td>\n",
       "      <td>España</td>\n",
       "      <td>None</td>\n",
       "      <td>None</td>\n",
       "      <td>Estar en un campo de fútbol arbitrando, escuch...</td>\n",
       "      <td>Athens</td>\n",
       "      <td>1676</td>\n",
       "      <td>1538698825</td>\n",
       "      <td>None</td>\n",
       "      <td>-1</td>\n",
       "      <td>573</td>\n",
       "      <td>209</td>\n",
       "      <td>None</td>\n",
       "      <td>retweet</td>\n",
       "      <td>41</td>\n",
       "      <td>2734383970</td>\n",
       "      <td>geeeelaaaaa</td>\n",
       "    </tr>\n",
       "  </tbody>\n",
       "</table>\n",
       "</div>"
      ],
      "text/plain": [
       "                   country          created_at favorite_count  \\\n",
       "990380137937035265    None 2018-04-28 23:59:59              0   \n",
       "990380135638593538    None 2018-04-28 23:59:59              0   \n",
       "990380135500181505    None 2018-04-28 23:59:59              0   \n",
       "990380134715871233    None 2018-04-28 23:59:59              0   \n",
       "990380130362187776    None 2018-04-28 23:59:58              0   \n",
       "\n",
       "                                                            full_text  \\\n",
       "990380137937035265  RT @Odi_sea: Con 17 años desde una cena de gra...   \n",
       "990380135638593538  RT @__Kylene: Demos voz y apoyo a esta compañe...   \n",
       "990380135500181505  RT @AlejandraTuk: Mi marido me maltrata.\\nPido...   \n",
       "990380134715871233  RT @Antiintermedio: ¿Sabéis dónde estaban hace...   \n",
       "990380130362187776  RT @Soy_Arbitra: Estar en un campo de fútbol a...   \n",
       "\n",
       "                                    id    lat               location    lon  \\\n",
       "990380137937035265  990380137937035265 -999.0              Venezuela -999.0   \n",
       "990380135638593538  990380135638593538 -999.0  Baker Street, London. -999.0   \n",
       "990380135500181505  990380135500181505 -999.0                        -999.0   \n",
       "990380134715871233  990380134715871233 -999.0        Cáceres, España -999.0   \n",
       "990380130362187776  990380130362187776 -999.0       Vallecas, Madrid -999.0   \n",
       "\n",
       "                   parent_country   parent_created_at           parent_id  \\\n",
       "990380137937035265           None 2018-04-28 00:41:56  990028305704333312   \n",
       "990380135638593538           None 2018-04-28 14:57:54  990243714584010752   \n",
       "990380135500181505           None 2018-04-28 20:21:05  990325049893801984   \n",
       "990380134715871233           None 2018-04-27 21:50:49  989985242713919488   \n",
       "990380130362187776           None 2018-04-28 16:07:55  990261338810257408   \n",
       "\n",
       "                   parent_lat             parent_location parent_lon  \\\n",
       "990380137937035265       None                                   None   \n",
       "990380135638593538       None                      Lleida       None   \n",
       "990380135500181505       None       Latinoamérica Libre ☭       None   \n",
       "990380134715871233       None  En el combate metapolítico       None   \n",
       "990380130362187776       None                      España       None   \n",
       "\n",
       "                   parent_place  \\\n",
       "990380137937035265         None   \n",
       "990380135638593538         None   \n",
       "990380135500181505         None   \n",
       "990380134715871233         None   \n",
       "990380130362187776         None   \n",
       "\n",
       "                                                          parent_text  \\\n",
       "990380137937035265  Con 17 años desde una cena de graduación un ho...   \n",
       "990380135638593538  Demos voz y apoyo a esta compañera que me ha p...   \n",
       "990380135500181505  Mi marido me maltrata.\\nPido el divorcio.\\nEl ...   \n",
       "990380134715871233  ¿Sabéis dónde estaban hace 4 años y medio los ...   \n",
       "990380130362187776  Estar en un campo de fútbol arbitrando, escuch...   \n",
       "\n",
       "                              parent_time_zone  parent_user_followers  \\\n",
       "990380137937035265                   Amsterdam                    301   \n",
       "990380135638593538                      Athens                   2483   \n",
       "990380135500181505  Eastern Time (US & Canada)                   5824   \n",
       "990380134715871233                        None                  18184   \n",
       "990380130362187776                      Athens                   1676   \n",
       "\n",
       "                    parent_user_id place  quote_count  retweet_count  \\\n",
       "990380137937035265       112541236  None           -1           3176   \n",
       "990380135638593538       814900356  None           -1           1208   \n",
       "990380135500181505       529588816  None           -1          17406   \n",
       "990380134715871233      2345903802  None           -1           1322   \n",
       "990380130362187776      1538698825  None           -1            573   \n",
       "\n",
       "                    statuses_count time_zone tweet_type  user_followers_count  \\\n",
       "990380137937035265           48132   Caracas    retweet                  1839   \n",
       "990380135638593538            9376      None    retweet                   249   \n",
       "990380135500181505           10839      None    retweet                   132   \n",
       "990380134715871233           41093      None    retweet                   213   \n",
       "990380130362187776             209      None    retweet                    41   \n",
       "\n",
       "                               user_id user_screen_name  \n",
       "990380137937035265           636716479  OrianaDiAmeliee  \n",
       "990380135638593538           546250792          alannih  \n",
       "990380135500181505  796195177400532993        DiKa2Pa21  \n",
       "990380134715871233  936556720670863360  FranciscoJMArau  \n",
       "990380130362187776          2734383970      geeeelaaaaa  "
      ]
     },
     "execution_count": 10,
     "metadata": {},
     "output_type": "execute_result"
    }
   ],
   "source": [
    "df.head()"
   ]
  },
  {
   "cell_type": "code",
   "execution_count": 11,
   "metadata": {},
   "outputs": [],
   "source": [
    "#generar fichero\n",
    "df.to_pickle(\"../pickles/cuentalo_json_to.pkl\")"
   ]
  },
  {
   "cell_type": "code",
   "execution_count": 12,
   "metadata": {},
   "outputs": [
    {
     "data": {
      "text/plain": [
       "Index(['country', 'created_at', 'favorite_count', 'full_text', 'id', 'lat',\n",
       "       'location', 'lon', 'parent_country', 'parent_created_at', 'parent_id',\n",
       "       'parent_lat', 'parent_location', 'parent_lon', 'parent_place',\n",
       "       'parent_text', 'parent_time_zone', 'parent_user_followers',\n",
       "       'parent_user_id', 'place', 'quote_count', 'retweet_count',\n",
       "       'statuses_count', 'time_zone', 'tweet_type', 'user_followers_count',\n",
       "       'user_id', 'user_screen_name'],\n",
       "      dtype='object')"
      ]
     },
     "execution_count": 12,
     "metadata": {},
     "output_type": "execute_result"
    }
   ],
   "source": [
    "df.columns"
   ]
  },
  {
   "cell_type": "code",
   "execution_count": 13,
   "metadata": {},
   "outputs": [
    {
     "data": {
      "text/plain": [
       "2111998"
      ]
     },
     "execution_count": 13,
     "metadata": {},
     "output_type": "execute_result"
    }
   ],
   "source": [
    "len(df)"
   ]
  },
  {
   "cell_type": "markdown",
   "metadata": {},
   "source": [
    "# tweets originals faltantes"
   ]
  },
  {
   "cell_type": "code",
   "execution_count": 44,
   "metadata": {},
   "outputs": [],
   "source": [
    "df=pd.read_pickle(\"../pickles/cuentalo_clean_1.pkl\")"
   ]
  },
  {
   "cell_type": "code",
   "execution_count": 45,
   "metadata": {},
   "outputs": [
    {
     "data": {
      "text/plain": [
       "81998"
      ]
     },
     "execution_count": 45,
     "metadata": {},
     "output_type": "execute_result"
    }
   ],
   "source": [
    "parents=set(df.parent_id.values)\n",
    "len(parents)"
   ]
  },
  {
   "cell_type": "code",
   "execution_count": 46,
   "metadata": {},
   "outputs": [
    {
     "data": {
      "text/plain": [
       "151245"
      ]
     },
     "execution_count": 46,
     "metadata": {},
     "output_type": "execute_result"
    }
   ],
   "source": [
    "originals=set(df[df.tweet_type!='retweet'].id.unique())\n",
    "len(originals)"
   ]
  },
  {
   "cell_type": "code",
   "execution_count": 47,
   "metadata": {},
   "outputs": [
    {
     "data": {
      "text/plain": [
       "1973203"
      ]
     },
     "execution_count": 47,
     "metadata": {},
     "output_type": "execute_result"
    }
   ],
   "source": [
    "retweets=df[df.tweet_type=='retweet'].id.unique()\n",
    "len(retweets)"
   ]
  },
  {
   "cell_type": "code",
   "execution_count": 48,
   "metadata": {},
   "outputs": [
    {
     "data": {
      "text/plain": [
       "64463"
      ]
     },
     "execution_count": 48,
     "metadata": {},
     "output_type": "execute_result"
    }
   ],
   "source": [
    "len(parents.intersection(originals)) # los que tengo"
   ]
  },
  {
   "cell_type": "code",
   "execution_count": 49,
   "metadata": {},
   "outputs": [
    {
     "data": {
      "text/plain": [
       "17535"
      ]
     },
     "execution_count": 49,
     "metadata": {},
     "output_type": "execute_result"
    }
   ],
   "source": [
    "len(parents.difference(originals)) "
   ]
  },
  {
   "cell_type": "code",
   "execution_count": 50,
   "metadata": {},
   "outputs": [],
   "source": [
    "faltantes=open('../intermediate_data/tweets_faltantes_2.csv','w')\n",
    "for tid in parents.difference(originals):\n",
    "    if tid!=0:\n",
    "        faltantes.write(str(tid)+'\\n')\n",
    "faltantes.close()"
   ]
  },
  {
   "cell_type": "code",
   "execution_count": null,
   "metadata": {},
   "outputs": [],
   "source": []
  },
  {
   "cell_type": "code",
   "execution_count": 52,
   "metadata": {},
   "outputs": [],
   "source": [
    "t1=pd.read_csv('../data/tweets_faltantes.csv')\n",
    "t2=pd.read_csv('../intermediate_data/tweets_faltantes_2.csv')"
   ]
  },
  {
   "cell_type": "code",
   "execution_count": 58,
   "metadata": {},
   "outputs": [],
   "source": [
    "s1=set(t1['990801260013027329'].values)\n",
    "s2=set(t2['990801260013027329'].values)"
   ]
  },
  {
   "cell_type": "code",
   "execution_count": 61,
   "metadata": {},
   "outputs": [
    {
     "data": {
      "text/plain": [
       "False"
      ]
     },
     "execution_count": 61,
     "metadata": {},
     "output_type": "execute_result"
    }
   ],
   "source": [
    "(s1.issubset(s2))"
   ]
  },
  {
   "cell_type": "code",
   "execution_count": 69,
   "metadata": {},
   "outputs": [
    {
     "name": "stdout",
     "output_type": "stream",
     "text": [
      "990730270876799000\n",
      "990652353949978600\n",
      "990724574722646000\n",
      "990015958168326100\n",
      "990698257016918000\n",
      "990810943658410000\n",
      "990754141021487100\n",
      "989613217390325800\n"
     ]
    }
   ],
   "source": [
    "\n",
    "tweetfile=open(\"../data/cuentalo_faltantes_2.jsonl\")\n",
    "for idx,line in enumerate(tweetfile):\n",
    "    if idx>100000000: # use for testing\n",
    "        break\n",
    "    tweet=json.loads(line)\n",
    "    tweets[tweet['id']]=extractInfo(tweet)\n",
    "    if tweets[tweet['id']]['tweet_type']=='retweet':\n",
    "        print (tweets[tweet['id']]['parent_id'])"
   ]
  },
  {
   "cell_type": "code",
   "execution_count": null,
   "metadata": {},
   "outputs": [],
   "source": []
  }
 ],
 "metadata": {
  "kernelspec": {
   "display_name": "Python 3",
   "language": "python",
   "name": "python3"
  },
  "language_info": {
   "codemirror_mode": {
    "name": "ipython",
    "version": 3
   },
   "file_extension": ".py",
   "mimetype": "text/x-python",
   "name": "python",
   "nbconvert_exporter": "python",
   "pygments_lexer": "ipython3",
   "version": "3.6.5"
  }
 },
 "nbformat": 4,
 "nbformat_minor": 1
}
